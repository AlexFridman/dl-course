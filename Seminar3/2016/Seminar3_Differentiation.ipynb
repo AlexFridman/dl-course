{
 "cells": [
  {
   "cell_type": "markdown",
   "metadata": {},
   "source": [
    "# Seminar 3: Differentiation"
   ]
  },
  {
   "cell_type": "markdown",
   "metadata": {},
   "source": [
    "Let's go from simple to complex. \n",
    "\n",
    "Consider a function $ y = f(x) $ and we want to find its derivative\n",
    "-   let $ f : \\mathbb{R} \\rightarrow \\mathbb{R} $, everyone knows what to do\n",
    "-   let $ f : \\mathbb{R}^n \\rightarrow \\mathbb{R} $\n",
    "    \n",
    "    now x is a vector $ [x_1, x_2, \\dots x_n] $. The gradient is defined as a vector of partial direvatives\n",
    "    $$ \\frac{df}{dx} = [\\frac{\\partial f}{\\partial x_1}, \\frac{\\partial f}{\\partial x_2}, \\dots, \\frac{\\partial f}{\\partial x_n} ] $$\n",
    "\n",
    "    ***Note***: there are different conventions on what shape the gradient will have (column or row), choose whatever easier for you, but keep in mind other people may prefer different convention.\n",
    "    \n",
    "    \n",
    "-   let $ \\mathbf{f} : \\mathbb{R}^n \\rightarrow \\mathbb{R}^m $\n",
    "    \n",
    "    now x is a vector $ [x_1, x_2, \\dots x_n] $ *and* y is a vector $ [x_1, x_2, \\dots x_n] $. The derivative is expressed by the jacobian *matrix*. \n",
    "    \n",
    "$$\n",
    "    \\frac{d\\mathbf f}{d\\mathbf x} = \\begin{bmatrix}\n",
    "    \\dfrac{\\partial \\mathbf{f}}{\\partial x_1} & \\cdots & \\dfrac{\\partial \\mathbf{f}}{\\partial x_n} \\end{bmatrix}\n",
    "= \\begin{bmatrix}\n",
    "    \\dfrac{\\partial f_1}{\\partial x_1} & \\cdots & \\dfrac{\\partial f_1}{\\partial x_n}\\\\\n",
    "    \\vdots & \\ddots & \\vdots\\\\\n",
    "    \\dfrac{\\partial f_m}{\\partial x_1} & \\cdots & \\dfrac{\\partial f_m}{\\partial x_n} \\end{bmatrix}\n",
    "$$\n",
    "\n",
    "-   let $ \\mathbf{f} : \\mathbb{R}^{n  \\times k}  \\rightarrow \\mathbb{R}^{ m \\times p} $\n",
    "    \n",
    "    think of $x$ as of vector with $nk$ elements, $y$ as of vector with $mp$ elements, it is previous case now."
   ]
  },
  {
   "cell_type": "markdown",
   "metadata": {},
   "source": [
    "# Chain rule\n",
    "\n",
    "Let $$ L(x) = g(f(x)) $$\n",
    "\n",
    "We aim to find $\\nabla_x L$. Obvious, if $f,g: \\mathbb{R} \\rightarrow \\mathbb{R}$ using rule:  \n",
    "\n",
    "$$ \\frac{dL}{dx} = \\frac{dg}{df}\\frac{df}{dx}$$\n",
    "\n",
    "and practical formula:\n",
    "\n",
    "$$ \\left.\\frac{dL}{dx}\\right|_{x=x_0} = \\left.\\frac{dg}{df}\\right|_{u = f(x_0)} \\cdot \\left.\\frac{df}{dx}\\right|_{x=x_0} $$\n",
    "\n",
    "What's up with multidimensional case ? Barely the same. It is the sum of 1-dimentional chains.\n",
    "$$\n",
    "\\frac{\\partial L}{\\partial x_i} = \\sum_{j = 1}^m \\frac{\\partial g}{\\partial f_j} \\frac{\\partial f_j}{\\partial x_i}.\n",
    "$$"
   ]
  },
  {
   "cell_type": "markdown",
   "metadata": {},
   "source": [
    "### Seminar practice (answers will be uploaded after seminar)"
   ]
  },
  {
   "cell_type": "markdown",
   "metadata": {},
   "source": [
    "#### ex.1 (dot product)"
   ]
  },
  {
   "cell_type": "markdown",
   "metadata": {},
   "source": [
    "$$  \n",
    "y = a^Tx = \\sum_{i=1}^N a_i x_i \\\\\n",
    "\\frac{dy}{dx} = \n",
    "$$"
   ]
  },
  {
   "cell_type": "markdown",
   "metadata": {},
   "source": [
    "#### ex.2 (Matrix-vector multiplication)"
   ]
  },
  {
   "cell_type": "markdown",
   "metadata": {},
   "source": [
    "$$  \n",
    "y = Ax , \\quad A \\in \\mathbb{R}^{M \\times N} \\\\\n",
    "\\frac{dy}{dx} = \n",
    "$$ "
   ]
  },
  {
   "cell_type": "markdown",
   "metadata": {},
   "source": [
    "#### ex.3 (Matrix-Matrix multiplication)"
   ]
  },
  {
   "cell_type": "markdown",
   "metadata": {},
   "source": [
    "$$  \n",
    "F = AS , \\quad A \\in \\mathbb{R}^{M \\times N}, S \\in \\mathbb{R}^{N \\times K} \\\\\n",
    "\\frac{dF}{dS} =\n",
    "$$"
   ]
  },
  {
   "cell_type": "markdown",
   "metadata": {},
   "source": [
    "#### ex. 4 (Chain rule)"
   ]
  },
  {
   "cell_type": "markdown",
   "metadata": {},
   "source": [
    "In this example you can recognize a model! It is simple linear regression with multiple objectives. \n",
    "$$  L = || Ax - y ||_2^2 , \\quad A \\in \\mathbb{R}^{M \\times N}, x \\in \\mathbb{R}^{N}  $$ \n",
    "Let $T = Ax$. Find $\\frac{dL}{dx}$ using chain rule. \n",
    "\n",
    "First find\n",
    "$$\n",
    "\\frac{dL}{dT} =  \n",
    "$$ \n",
    "and \n",
    "$$\n",
    "\\frac{dT}{dx} =  \n",
    "$$ \n",
    "\n",
    "And then the desired gradient.\n",
    "$$\n",
    "\\frac{dL}{dx} =  \n",
    "$$ "
   ]
  },
  {
   "cell_type": "markdown",
   "metadata": {},
   "source": []
  }
 ],
 "metadata": {
  "kernelspec": {
   "display_name": "Python 2",
   "language": "python",
   "name": "python2"
  },
  "language_info": {
   "codemirror_mode": {
    "name": "ipython",
    "version": 2
   },
   "file_extension": ".py",
   "mimetype": "text/x-python",
   "name": "python",
   "nbconvert_exporter": "python",
   "pygments_lexer": "ipython2",
   "version": "2.7.11"
  }
 },
 "nbformat": 4,
 "nbformat_minor": 0
}
